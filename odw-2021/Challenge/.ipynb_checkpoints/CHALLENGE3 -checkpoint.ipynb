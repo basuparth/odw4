{
 "cells": [
  {
   "cell_type": "code",
   "execution_count": 1,
   "metadata": {
    "colab": {},
    "colab_type": "code",
    "id": "XcmCRSxqr0fa"
   },
   "outputs": [],
   "source": [
    "from gwpy.timeseries import TimeSeries\n",
    "data = TimeSeries.read('challenge3.gwf', 'H1:CHALLENGE3')"
   ]
  },
  {
   "cell_type": "code",
   "execution_count": 2,
   "metadata": {
    "colab": {},
    "colab_type": "code",
    "id": "F679LuPDsmet"
   },
   "outputs": [
    {
     "name": "stdout",
     "output_type": "stream",
     "text": [
      "TimeSeries([-3.04517369e-19, -3.35465069e-19, -3.35210566e-19,\n",
      "            ...,  4.46471052e-19,  5.07624678e-19,\n",
      "             4.98623016e-19]\n",
      "           unit: ct,\n",
      "           t0: 0.0 s,\n",
      "           dt: 0.000244140625 s,\n",
      "           name: H1:CHALLENGE3,\n",
      "           channel: H1:CHALLENGE3)\n"
     ]
    }
   ],
   "source": [
    "import numpy as np\n",
    "signal=np.array(data)\n",
    "print(data)"
   ]
  },
  {
   "cell_type": "code",
   "execution_count": null,
   "metadata": {},
   "outputs": [],
   "source": [
    "ts = read_frame(file_name, channel_name, start, end)"
   ]
  }
 ],
 "metadata": {
  "colab": {
   "name": "task3.ipynb",
   "provenance": []
  },
  "kernelspec": {
   "display_name": "Python 3",
   "language": "python",
   "name": "python3"
  },
  "language_info": {
   "codemirror_mode": {
    "name": "ipython",
    "version": 3
   },
   "file_extension": ".py",
   "mimetype": "text/x-python",
   "name": "python",
   "nbconvert_exporter": "python",
   "pygments_lexer": "ipython3",
   "version": "3.7.6"
  }
 },
 "nbformat": 4,
 "nbformat_minor": 1
}
